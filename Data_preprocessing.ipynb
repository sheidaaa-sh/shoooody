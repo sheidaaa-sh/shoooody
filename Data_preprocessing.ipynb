{
  "cells": [
    {
      "cell_type": "markdown",
      "metadata": {
        "id": "view-in-github",
        "colab_type": "text"
      },
      "source": [
        "<a href=\"https://colab.research.google.com/github/sheidaaa-sh/shoooody/blob/main/Data_preprocessing.ipynb\" target=\"_parent\"><img src=\"https://colab.research.google.com/assets/colab-badge.svg\" alt=\"Open In Colab\"/></a>"
      ]
    },
    {
      "cell_type": "code",
      "source": [
        "from google.colab import files\n",
        "uploaded = files.upload()"
      ],
      "metadata": {
        "colab": {
          "base_uri": "https://localhost:8080/",
          "height": 90
        },
        "id": "J4eRUWhpTgkC",
        "outputId": "bb8d515c-03bc-4931-adb8-781aa39dc032"
      },
      "execution_count": 1,
      "outputs": [
        {
          "output_type": "display_data",
          "data": {
            "text/plain": [
              "<IPython.core.display.HTML object>"
            ],
            "text/html": [
              "\n",
              "     <input type=\"file\" id=\"files-3ea3736a-4982-4eb7-9e58-7d8a8e8cad97\" name=\"files[]\" multiple disabled\n",
              "        style=\"border:none\" />\n",
              "     <output id=\"result-3ea3736a-4982-4eb7-9e58-7d8a8e8cad97\">\n",
              "      Upload widget is only available when the cell has been executed in the\n",
              "      current browser session. Please rerun this cell to enable.\n",
              "      </output>\n",
              "      <script>// Copyright 2017 Google LLC\n",
              "//\n",
              "// Licensed under the Apache License, Version 2.0 (the \"License\");\n",
              "// you may not use this file except in compliance with the License.\n",
              "// You may obtain a copy of the License at\n",
              "//\n",
              "//      http://www.apache.org/licenses/LICENSE-2.0\n",
              "//\n",
              "// Unless required by applicable law or agreed to in writing, software\n",
              "// distributed under the License is distributed on an \"AS IS\" BASIS,\n",
              "// WITHOUT WARRANTIES OR CONDITIONS OF ANY KIND, either express or implied.\n",
              "// See the License for the specific language governing permissions and\n",
              "// limitations under the License.\n",
              "\n",
              "/**\n",
              " * @fileoverview Helpers for google.colab Python module.\n",
              " */\n",
              "(function(scope) {\n",
              "function span(text, styleAttributes = {}) {\n",
              "  const element = document.createElement('span');\n",
              "  element.textContent = text;\n",
              "  for (const key of Object.keys(styleAttributes)) {\n",
              "    element.style[key] = styleAttributes[key];\n",
              "  }\n",
              "  return element;\n",
              "}\n",
              "\n",
              "// Max number of bytes which will be uploaded at a time.\n",
              "const MAX_PAYLOAD_SIZE = 100 * 1024;\n",
              "\n",
              "function _uploadFiles(inputId, outputId) {\n",
              "  const steps = uploadFilesStep(inputId, outputId);\n",
              "  const outputElement = document.getElementById(outputId);\n",
              "  // Cache steps on the outputElement to make it available for the next call\n",
              "  // to uploadFilesContinue from Python.\n",
              "  outputElement.steps = steps;\n",
              "\n",
              "  return _uploadFilesContinue(outputId);\n",
              "}\n",
              "\n",
              "// This is roughly an async generator (not supported in the browser yet),\n",
              "// where there are multiple asynchronous steps and the Python side is going\n",
              "// to poll for completion of each step.\n",
              "// This uses a Promise to block the python side on completion of each step,\n",
              "// then passes the result of the previous step as the input to the next step.\n",
              "function _uploadFilesContinue(outputId) {\n",
              "  const outputElement = document.getElementById(outputId);\n",
              "  const steps = outputElement.steps;\n",
              "\n",
              "  const next = steps.next(outputElement.lastPromiseValue);\n",
              "  return Promise.resolve(next.value.promise).then((value) => {\n",
              "    // Cache the last promise value to make it available to the next\n",
              "    // step of the generator.\n",
              "    outputElement.lastPromiseValue = value;\n",
              "    return next.value.response;\n",
              "  });\n",
              "}\n",
              "\n",
              "/**\n",
              " * Generator function which is called between each async step of the upload\n",
              " * process.\n",
              " * @param {string} inputId Element ID of the input file picker element.\n",
              " * @param {string} outputId Element ID of the output display.\n",
              " * @return {!Iterable<!Object>} Iterable of next steps.\n",
              " */\n",
              "function* uploadFilesStep(inputId, outputId) {\n",
              "  const inputElement = document.getElementById(inputId);\n",
              "  inputElement.disabled = false;\n",
              "\n",
              "  const outputElement = document.getElementById(outputId);\n",
              "  outputElement.innerHTML = '';\n",
              "\n",
              "  const pickedPromise = new Promise((resolve) => {\n",
              "    inputElement.addEventListener('change', (e) => {\n",
              "      resolve(e.target.files);\n",
              "    });\n",
              "  });\n",
              "\n",
              "  const cancel = document.createElement('button');\n",
              "  inputElement.parentElement.appendChild(cancel);\n",
              "  cancel.textContent = 'Cancel upload';\n",
              "  const cancelPromise = new Promise((resolve) => {\n",
              "    cancel.onclick = () => {\n",
              "      resolve(null);\n",
              "    };\n",
              "  });\n",
              "\n",
              "  // Wait for the user to pick the files.\n",
              "  const files = yield {\n",
              "    promise: Promise.race([pickedPromise, cancelPromise]),\n",
              "    response: {\n",
              "      action: 'starting',\n",
              "    }\n",
              "  };\n",
              "\n",
              "  cancel.remove();\n",
              "\n",
              "  // Disable the input element since further picks are not allowed.\n",
              "  inputElement.disabled = true;\n",
              "\n",
              "  if (!files) {\n",
              "    return {\n",
              "      response: {\n",
              "        action: 'complete',\n",
              "      }\n",
              "    };\n",
              "  }\n",
              "\n",
              "  for (const file of files) {\n",
              "    const li = document.createElement('li');\n",
              "    li.append(span(file.name, {fontWeight: 'bold'}));\n",
              "    li.append(span(\n",
              "        `(${file.type || 'n/a'}) - ${file.size} bytes, ` +\n",
              "        `last modified: ${\n",
              "            file.lastModifiedDate ? file.lastModifiedDate.toLocaleDateString() :\n",
              "                                    'n/a'} - `));\n",
              "    const percent = span('0% done');\n",
              "    li.appendChild(percent);\n",
              "\n",
              "    outputElement.appendChild(li);\n",
              "\n",
              "    const fileDataPromise = new Promise((resolve) => {\n",
              "      const reader = new FileReader();\n",
              "      reader.onload = (e) => {\n",
              "        resolve(e.target.result);\n",
              "      };\n",
              "      reader.readAsArrayBuffer(file);\n",
              "    });\n",
              "    // Wait for the data to be ready.\n",
              "    let fileData = yield {\n",
              "      promise: fileDataPromise,\n",
              "      response: {\n",
              "        action: 'continue',\n",
              "      }\n",
              "    };\n",
              "\n",
              "    // Use a chunked sending to avoid message size limits. See b/62115660.\n",
              "    let position = 0;\n",
              "    do {\n",
              "      const length = Math.min(fileData.byteLength - position, MAX_PAYLOAD_SIZE);\n",
              "      const chunk = new Uint8Array(fileData, position, length);\n",
              "      position += length;\n",
              "\n",
              "      const base64 = btoa(String.fromCharCode.apply(null, chunk));\n",
              "      yield {\n",
              "        response: {\n",
              "          action: 'append',\n",
              "          file: file.name,\n",
              "          data: base64,\n",
              "        },\n",
              "      };\n",
              "\n",
              "      let percentDone = fileData.byteLength === 0 ?\n",
              "          100 :\n",
              "          Math.round((position / fileData.byteLength) * 100);\n",
              "      percent.textContent = `${percentDone}% done`;\n",
              "\n",
              "    } while (position < fileData.byteLength);\n",
              "  }\n",
              "\n",
              "  // All done.\n",
              "  yield {\n",
              "    response: {\n",
              "      action: 'complete',\n",
              "    }\n",
              "  };\n",
              "}\n",
              "\n",
              "scope.google = scope.google || {};\n",
              "scope.google.colab = scope.google.colab || {};\n",
              "scope.google.colab._files = {\n",
              "  _uploadFiles,\n",
              "  _uploadFilesContinue,\n",
              "};\n",
              "})(self);\n",
              "</script> "
            ]
          },
          "metadata": {}
        },
        {
          "output_type": "stream",
          "name": "stdout",
          "text": [
            "Saving 20240516_training_data (1).xlsx to 20240516_training_data (1).xlsx\n"
          ]
        }
      ]
    },
    {
      "cell_type": "code",
      "execution_count": 2,
      "metadata": {
        "colab": {
          "base_uri": "https://localhost:8080/"
        },
        "id": "Kt2mttKnbF89",
        "outputId": "b22ce035-1f57-43fe-ff3f-289959bcb473"
      },
      "outputs": [
        {
          "output_type": "stream",
          "name": "stdout",
          "text": [
            "   PRENOTAZIONE COD_AZIENDA                     Data  FLAG_FATTURATO  \\\n",
            "0        818020         BeT  2023-01-02 00:00:00.000               1   \n",
            "1        818021         BeT  2023-01-02 00:00:00.000               1   \n",
            "2        818022         BeT  2023-01-02 00:00:00.000               1   \n",
            "3        818023         BeT  2023-01-02 00:00:00.000               1   \n",
            "4        818024         BeT  2023-01-02 00:00:00.000               1   \n",
            "\n",
            "   id_quotazioni  id_quotazioni_servizio  id_quotazioni_servizio_acquisti  \\\n",
            "0       15267116                21318146                              NaN   \n",
            "1       15276481                21451129                              NaN   \n",
            "2       15276450                21450651                              NaN   \n",
            "3       15267123                21318250                              NaN   \n",
            "4       15267129                21318330                              NaN   \n",
            "\n",
            "  desc_tipo_servizio Result_Account Result_Supplier  ...  \\\n",
            "0        B&T Express      106309247             DHL  ...   \n",
            "1        B&T Express      218174280           fedex  ...   \n",
            "2         B&T Italia      106309247             DHL  ...   \n",
            "3        B&T Express      106309247             DHL  ...   \n",
            "4        B&T Express      106309247             DHL  ...   \n",
            "\n",
            "  COD_NAZIONE_CLIFOR_MITT CAP_CLIFOR_DEST COD_NAZIONE_CLIFOR_DEST goods_type  \\\n",
            "0                      IT          166 72                      GR      MERCI   \n",
            "1                      IT         2133 LD                      NL      MERCI   \n",
            "2                      IT           10070                      IT      MERCI   \n",
            "3                      IT               -                      HK       DOCS   \n",
            "4                      IT       04083-002                      BR       DOCS   \n",
            "\n",
            "  is_dangerous                                  goods_description  \\\n",
            "0            0  carton box contain italian cake (food not perish)   \n",
            "1            0    PURIFIER SPARES MV SILVER ELLIE REF 11322V00209   \n",
            "2            0                 Christmas Gifts (agende-calendari)   \n",
            "3            0                                          DOCUMENTS   \n",
            "4            0                                          DOCUMENTS   \n",
            "\n",
            "     observations dogana  DryIce  \\\n",
            "0             NaN    0.0     0.0   \n",
            "1             NaN    0.0     0.0   \n",
            "2             NaN    0.0     0.0   \n",
            "3  utilizzare DHL    0.0     0.0   \n",
            "4             NaN    0.0     0.0   \n",
            "\n",
            "                                               colli  \n",
            "0  {\"weight\":8.01000,\"dim1\":39.80000,\"dim2\":40.20...  \n",
            "1  {\"weight\":1.10000,\"dim1\":31.40000,\"dim2\":26.10...  \n",
            "2  {\"weight\":4.18000,\"dim1\":29.70000,\"dim2\":39.00...  \n",
            "3  {\"weight\":0.50000,\"dim1\":1.00000,\"dim2\":1.0000...  \n",
            "4  {\"weight\":0.50000,\"dim1\":1.00000,\"dim2\":1.0000...  \n",
            "\n",
            "[5 rows x 24 columns]\n"
          ]
        }
      ],
      "source": [
        "import pandas as pd\n",
        "\n",
        "# Load the dataset from an Excel file\n",
        "df = pd.read_excel('/content/20240516_training_data (1).xlsx')\n",
        "\n",
        "# Display the first few rows to verify\n",
        "print(df.head())"
      ]
    },
    {
      "cell_type": "markdown",
      "source": [
        "# Handling missing value"
      ],
      "metadata": {
        "id": "LcfO59k7UEU6"
      }
    },
    {
      "cell_type": "markdown",
      "source": [
        "nothing was neccesory"
      ],
      "metadata": {
        "id": "ANIEwTR8ahCS"
      }
    },
    {
      "cell_type": "markdown",
      "source": [
        "# Feature encoding"
      ],
      "metadata": {
        "id": "YyduXXKBZccv"
      }
    },
    {
      "cell_type": "markdown",
      "source": [
        "Categorical encoding:"
      ],
      "metadata": {
        "id": "E-Jy--Sia12_"
      }
    },
    {
      "cell_type": "code",
      "source": [
        "df = pd.get_dummies(df, columns=['service_type', 'shipping_type', 'goods_type'])"
      ],
      "metadata": {
        "id": "SGKmmag7UDS_"
      },
      "execution_count": 4,
      "outputs": []
    },
    {
      "cell_type": "markdown",
      "source": [
        "Text features:"
      ],
      "metadata": {
        "id": "VnzaZ71AbUSM"
      }
    },
    {
      "cell_type": "code",
      "execution_count": null,
      "metadata": {
        "colab": {
          "base_uri": "https://localhost:8080/"
        },
        "id": "AaZ5spwUPyiJ",
        "outputId": "c58b717d-14f0-4f75-8613-4c49fc86243a"
      },
      "outputs": [
        {
          "output_type": "stream",
          "name": "stderr",
          "text": [
            "[nltk_data] Downloading package stopwords to /root/nltk_data...\n",
            "[nltk_data]   Unzipping corpora/stopwords.zip.\n",
            "[nltk_data] Downloading package wordnet to /root/nltk_data...\n",
            "[nltk_data] Downloading package omw-1.4 to /root/nltk_data...\n"
          ]
        }
      ],
      "source": [
        "import re\n",
        "import nltk\n",
        "from nltk.corpus import stopwords\n",
        "from nltk.stem import WordNetLemmatizer\n",
        "\n",
        "# Download necessary NLTK data\n",
        "nltk.download('stopwords')\n",
        "nltk.download('wordnet')\n",
        "nltk.download('omw-1.4')\n",
        "\n",
        "# Initialize Lemmatizer\n",
        "lemmatizer = WordNetLemmatizer()\n",
        "stop_words = set(stopwords.words('italian'))\n",
        "\n",
        "# Define a function to clean text\n",
        "def clean_text(text):\n",
        "    text = text.lower()  # Lowercase\n",
        "    text = re.sub(r'[^\\w\\s]', '', text)  # Remove punctuation\n",
        "    text = [lemmatizer.lemmatize(word) for word in text.split() if word not in stop_words]  # Lemmatize and remove stopwords\n",
        "    return \" \".join(text)\n",
        "\n",
        "# Apply to both columns\n",
        "df['Good_description_clean'] = df['goods_description'].apply(lambda x: clean_text(str(x)))\n",
        "df['Observations_clean'] = df['observations'].apply(lambda x: clean_text(str(x)))\n"
      ]
    },
    {
      "cell_type": "code",
      "execution_count": null,
      "metadata": {
        "colab": {
          "base_uri": "https://localhost:8080/"
        },
        "id": "m-Z1x1HfcSOd",
        "outputId": "21165ff6-52b1-4f2e-9044-0a2afb0022a3"
      },
      "outputs": [
        {
          "output_type": "stream",
          "name": "stdout",
          "text": [
            "   PRENOTAZIONE COD_AZIENDA                     Data  FLAG_FATTURATO  \\\n",
            "0        818020         BeT  2023-01-02 00:00:00.000               1   \n",
            "1        818021         BeT  2023-01-02 00:00:00.000               1   \n",
            "2        818022         BeT  2023-01-02 00:00:00.000               1   \n",
            "3        818023         BeT  2023-01-02 00:00:00.000               1   \n",
            "4        818024         BeT  2023-01-02 00:00:00.000               1   \n",
            "\n",
            "   id_quotazioni  id_quotazioni_servizio  id_quotazioni_servizio_acquisti  \\\n",
            "0       15267116                21318146                              NaN   \n",
            "1       15276481                21451129                              NaN   \n",
            "2       15276450                21450651                              NaN   \n",
            "3       15267123                21318250                              NaN   \n",
            "4       15267129                21318330                              NaN   \n",
            "\n",
            "  desc_tipo_servizio Result_Account Result_Supplier  ...  \\\n",
            "0        B&T Express      106309247             DHL  ...   \n",
            "1        B&T Express      218174280           fedex  ...   \n",
            "2         B&T Italia      106309247             DHL  ...   \n",
            "3        B&T Express      106309247             DHL  ...   \n",
            "4        B&T Express      106309247             DHL  ...   \n",
            "\n",
            "  COD_NAZIONE_CLIFOR_DEST goods_type is_dangerous  \\\n",
            "0                      GR      MERCI            0   \n",
            "1                      NL      MERCI            0   \n",
            "2                      IT      MERCI            0   \n",
            "3                      HK       DOCS            0   \n",
            "4                      BR       DOCS            0   \n",
            "\n",
            "                                   goods_description    observations dogana  \\\n",
            "0  carton box contain italian cake (food not perish)             NaN    0.0   \n",
            "1    PURIFIER SPARES MV SILVER ELLIE REF 11322V00209             NaN    0.0   \n",
            "2                 Christmas Gifts (agende-calendari)             NaN    0.0   \n",
            "3                                          DOCUMENTS  utilizzare DHL    0.0   \n",
            "4                                          DOCUMENTS             NaN    0.0   \n",
            "\n",
            "  DryIce                                              colli  \\\n",
            "0    0.0  {\"weight\":8.01000,\"dim1\":39.80000,\"dim2\":40.20...   \n",
            "1    0.0  {\"weight\":1.10000,\"dim1\":31.40000,\"dim2\":26.10...   \n",
            "2    0.0  {\"weight\":4.18000,\"dim1\":29.70000,\"dim2\":39.00...   \n",
            "3    0.0  {\"weight\":0.50000,\"dim1\":1.00000,\"dim2\":1.0000...   \n",
            "4    0.0  {\"weight\":0.50000,\"dim1\":1.00000,\"dim2\":1.0000...   \n",
            "\n",
            "                            Good_description_clean Observations_clean  \n",
            "0  carton box contain italian cake food not perish                nan  \n",
            "1   purifier spare mv silver ellie ref 11322v00209                nan  \n",
            "2                   christmas gift agendecalendari                nan  \n",
            "3                                         document     utilizzare dhl  \n",
            "4                                         document                nan  \n",
            "\n",
            "[5 rows x 26 columns]\n"
          ]
        }
      ],
      "source": [
        "print(df.head())"
      ]
    },
    {
      "cell_type": "markdown",
      "source": [
        "# Option 1: Word embedding"
      ],
      "metadata": {
        "id": "WD1GwqajIZcx"
      }
    },
    {
      "cell_type": "code",
      "execution_count": null,
      "metadata": {
        "colab": {
          "background_save": true,
          "base_uri": "https://localhost:8080/"
        },
        "id": "y2aiwvqvyAtw",
        "outputId": "8755b090-4b83-4c76-8a64-765e1567696e"
      },
      "outputs": [
        {
          "name": "stdout",
          "output_type": "stream",
          "text": [
            "[==================================================] 100.0% 1662.8/1662.8MB downloaded\n"
          ]
        }
      ],
      "source": [
        "import numpy as np\n",
        "import gensim.downloader as api\n",
        "\n",
        "# Load pre-trained Word2Vec embeddings\n",
        "word2vec_model = api.load(\"word2vec-google-news-300\")\n",
        "\n",
        "# Function to compute the average word vectors for a document\n",
        "def document_vector(doc):\n",
        "    doc = [word for word in doc.split() if word in word2vec_model]\n",
        "    if len(doc) > 0:\n",
        "        return np.mean(word2vec_model[doc], axis=0)\n",
        "    else:\n",
        "        return np.zeros(300)  # Handle empty documents\n",
        "\n",
        "# Apply to the dataset\n",
        "df['Good_description_vector'] = df['Good_description_clean'].apply(lambda x: document_vector(x))\n",
        "df['Observations_vector'] = df['Observations_clean'].apply(lambda x: document_vector(x))\n"
      ]
    },
    {
      "cell_type": "code",
      "execution_count": null,
      "metadata": {
        "colab": {
          "base_uri": "https://localhost:8080/"
        },
        "id": "2eY2L0D63HJ0",
        "outputId": "4183eedf-d4a0-4a20-ab77-10ce359c2325"
      },
      "outputs": [
        {
          "output_type": "stream",
          "name": "stdout",
          "text": [
            "0    [-0.020095825, -0.035003662, -0.024627686, 0.1...\n",
            "1    [-0.031194052, -0.06982422, 0.023803711, -0.02...\n",
            "2    [0.025390625, 0.03491211, -0.09150696, 0.25292...\n",
            "3    [0.03930664, 0.014526367, 0.06298828, -0.01019...\n",
            "4    [0.03930664, 0.014526367, 0.06298828, -0.01019...\n",
            "Name: Good_description_vector, dtype: object\n",
            "0    [-0.29492188, 0.075683594, 0.1640625, 0.142578...\n",
            "1    [-0.29492188, 0.075683594, 0.1640625, 0.142578...\n",
            "2    [-0.29492188, 0.075683594, 0.1640625, 0.142578...\n",
            "3    [0.0, 0.0, 0.0, 0.0, 0.0, 0.0, 0.0, 0.0, 0.0, ...\n",
            "4    [-0.29492188, 0.075683594, 0.1640625, 0.142578...\n",
            "Name: Observations_vector, dtype: object\n"
          ]
        }
      ],
      "source": [
        "# Check the structure of one of the new columns\n",
        "print(df['Good_description_vector'].head())\n",
        "print(df['Observations_vector'].head())"
      ]
    },
    {
      "cell_type": "code",
      "execution_count": null,
      "metadata": {
        "id": "GlJxJbqp3kKy"
      },
      "outputs": [],
      "source": [
        "# Expand the 'Good_description_vector' into 300 separate columns\n",
        "good_desc_vector_df = pd.DataFrame(df['Good_description_vector'].tolist(), index=df.index)\n",
        "good_desc_vector_df.columns = [f'Good_desc_vec_{i}' for i in range(300)]\n",
        "\n",
        "# Expand the 'Observations_vector' into 300 separate columns\n",
        "observations_vector_df = pd.DataFrame(df['Observations_vector'].tolist(), index=df.index)\n",
        "observations_vector_df.columns = [f'Obs_vec_{i}' for i in range(300)]"
      ]
    },
    {
      "cell_type": "code",
      "execution_count": null,
      "metadata": {
        "id": "ax__DwXv3pUK"
      },
      "outputs": [],
      "source": [
        "# Drop original text and vector columns\n",
        "df = df.drop(columns=['goods_description', 'observations', 'Good_description_clean', 'Observations_clean', 'Good_description_vector', 'Observations_vector'])\n"
      ]
    },
    {
      "cell_type": "code",
      "execution_count": null,
      "metadata": {
        "id": "8su3nWOl36hc"
      },
      "outputs": [],
      "source": [
        "# Combine the original DataFrame with the new vector DataFrames\n",
        "df_final = pd.concat([df, good_desc_vector_df, observations_vector_df], axis=1)\n"
      ]
    },
    {
      "cell_type": "code",
      "execution_count": null,
      "metadata": {
        "colab": {
          "base_uri": "https://localhost:8080/"
        },
        "id": "_3l7QKDkytMI",
        "outputId": "ea085033-abeb-4901-d4b0-96d06212a630"
      },
      "outputs": [
        {
          "output_type": "stream",
          "name": "stdout",
          "text": [
            "   PRENOTAZIONE COD_AZIENDA                     Data  FLAG_FATTURATO  \\\n",
            "0        818020         BeT  2023-01-02 00:00:00.000               1   \n",
            "1        818021         BeT  2023-01-02 00:00:00.000               1   \n",
            "2        818022         BeT  2023-01-02 00:00:00.000               1   \n",
            "3        818023         BeT  2023-01-02 00:00:00.000               1   \n",
            "4        818024         BeT  2023-01-02 00:00:00.000               1   \n",
            "\n",
            "   id_quotazioni  id_quotazioni_servizio  id_quotazioni_servizio_acquisti  \\\n",
            "0       15267116                21318146                              NaN   \n",
            "1       15276481                21451129                              NaN   \n",
            "2       15276450                21450651                              NaN   \n",
            "3       15267123                21318250                              NaN   \n",
            "4       15267129                21318330                              NaN   \n",
            "\n",
            "  desc_tipo_servizio Result_Account Result_Supplier  ... Obs_vec_290  \\\n",
            "0        B&T Express      106309247             DHL  ...   -0.139648   \n",
            "1        B&T Express      218174280           fedex  ...   -0.139648   \n",
            "2         B&T Italia      106309247             DHL  ...   -0.139648   \n",
            "3        B&T Express      106309247             DHL  ...    0.000000   \n",
            "4        B&T Express      106309247             DHL  ...   -0.139648   \n",
            "\n",
            "  Obs_vec_291 Obs_vec_292 Obs_vec_293 Obs_vec_294 Obs_vec_295 Obs_vec_296  \\\n",
            "0    0.007935   -0.061279    0.018677   -0.177734   -0.108398   -0.345703   \n",
            "1    0.007935   -0.061279    0.018677   -0.177734   -0.108398   -0.345703   \n",
            "2    0.007935   -0.061279    0.018677   -0.177734   -0.108398   -0.345703   \n",
            "3    0.000000    0.000000    0.000000    0.000000    0.000000    0.000000   \n",
            "4    0.007935   -0.061279    0.018677   -0.177734   -0.108398   -0.345703   \n",
            "\n",
            "  Obs_vec_297  Obs_vec_298  Obs_vec_299  \n",
            "0   -0.134766    -0.052979     0.103516  \n",
            "1   -0.134766    -0.052979     0.103516  \n",
            "2   -0.134766    -0.052979     0.103516  \n",
            "3    0.000000     0.000000     0.000000  \n",
            "4   -0.134766    -0.052979     0.103516  \n",
            "\n",
            "[5 rows x 622 columns]\n",
            "(43787, 622)\n"
          ]
        }
      ],
      "source": [
        "print(df_final.head())\n",
        "\n",
        "print(df_final.shape)"
      ]
    },
    {
      "cell_type": "code",
      "execution_count": null,
      "metadata": {
        "id": "3llLEjpX4NYk"
      },
      "outputs": [],
      "source": [
        "df_final.to_csv('combined_dataset.csv', index=False)"
      ]
    },
    {
      "cell_type": "markdown",
      "metadata": {
        "id": "zzBL3ieQy5nR"
      },
      "source": [
        "# Option 2: TF-idf ==> better"
      ]
    },
    {
      "cell_type": "code",
      "execution_count": null,
      "metadata": {
        "id": "mKrKuu_pdIum"
      },
      "outputs": [],
      "source": [
        "from sklearn.feature_extraction.text import TfidfVectorizer\n",
        "\n",
        "# Initialize TfidfVectorizer\n",
        "tfidf_good_desc = TfidfVectorizer(max_features=100)\n",
        "tfidf_observations = TfidfVectorizer(max_features=100)\n",
        "\n",
        "# Fit and transform the data\n",
        "good_desc_tfidf = tfidf_good_desc.fit_transform(df['Good_description_clean'])\n",
        "observations_tfidf = tfidf_observations.fit_transform(df['Observations_clean'])\n",
        "\n",
        "# Convert to DataFrame\n",
        "good_desc_tfidf_df = pd.DataFrame(good_desc_tfidf.toarray(), columns=tfidf_good_desc.get_feature_names_out())\n",
        "observations_tfidf_df = pd.DataFrame(observations_tfidf.toarray(), columns=tfidf_observations.get_feature_names_out())\n",
        "\n",
        "# Concatenate with the original DataFrame\n",
        "df = pd.concat([df, good_desc_tfidf_df, observations_tfidf_df], axis=1)\n"
      ]
    },
    {
      "cell_type": "code",
      "execution_count": null,
      "metadata": {
        "colab": {
          "base_uri": "https://localhost:8080/"
        },
        "id": "eIBBRUModP-t",
        "outputId": "07c38ac1-af46-431f-e62c-377fb6803693"
      },
      "outputs": [
        {
          "output_type": "stream",
          "name": "stdout",
          "text": [
            "   PRENOTAZIONE COD_AZIENDA                     Data  FLAG_FATTURATO  \\\n",
            "0        818020         BeT  2023-01-02 00:00:00.000               1   \n",
            "1        818021         BeT  2023-01-02 00:00:00.000               1   \n",
            "2        818022         BeT  2023-01-02 00:00:00.000               1   \n",
            "3        818023         BeT  2023-01-02 00:00:00.000               1   \n",
            "4        818024         BeT  2023-01-02 00:00:00.000               1   \n",
            "5        818025         BeT  2023-01-02 00:00:00.000               1   \n",
            "6        818027         BeT  2023-01-02 00:00:00.000               1   \n",
            "7        818028         BeT  2023-01-02 00:00:00.000               1   \n",
            "8        818029         BeT  2023-01-02 00:00:00.000               1   \n",
            "9        818030         BeT  2023-01-02 00:00:00.000               1   \n",
            "\n",
            "   id_quotazioni  id_quotazioni_servizio  id_quotazioni_servizio_acquisti  \\\n",
            "0       15267116                21318146                              NaN   \n",
            "1       15276481                21451129                              NaN   \n",
            "2       15276450                21450651                              NaN   \n",
            "3       15267123                21318250                              NaN   \n",
            "4       15267129                21318330                              NaN   \n",
            "5       15267131                21318364                              NaN   \n",
            "6       15267133                21318394                              NaN   \n",
            "7       15267135                21318426                              NaN   \n",
            "8       15267137                21318458                              NaN   \n",
            "9       15267139                21318490                              NaN   \n",
            "\n",
            "  desc_tipo_servizio Result_Account Result_Supplier  ... unarea under usare  \\\n",
            "0        B&T Express      106309247             DHL  ...    0.0   0.0   0.0   \n",
            "1        B&T Express      218174280           fedex  ...    0.0   0.0   0.0   \n",
            "2         B&T Italia      106309247             DHL  ...    0.0   0.0   0.0   \n",
            "3        B&T Express      106309247             DHL  ...    0.0   0.0   0.0   \n",
            "4        B&T Express      106309247             DHL  ...    0.0   0.0   0.0   \n",
            "5         B&T Italia        6881727             TNT  ...    0.0   0.0   0.0   \n",
            "6        B&T Express      106309247             DHL  ...    0.0   0.0   0.0   \n",
            "7        B&T Express      106309247             DHL  ...    0.0   0.0   0.0   \n",
            "8        B&T Express      106309247             DHL  ...    0.0   0.0   0.0   \n",
            "9        B&T Express      106309247             DHL  ...    0.0   0.0   0.0   \n",
            "\n",
            "   use using utilizzare verificare waybill  when wine  \n",
            "0  0.0   0.0   0.000000        0.0     0.0   0.0  0.0  \n",
            "1  0.0   0.0   0.000000        0.0     0.0   0.0  0.0  \n",
            "2  0.0   0.0   0.000000        0.0     0.0   0.0  0.0  \n",
            "3  0.0   0.0   0.844468        0.0     0.0   0.0  0.0  \n",
            "4  0.0   0.0   0.000000        0.0     0.0   0.0  0.0  \n",
            "5  0.0   0.0   0.000000        0.0     0.0   0.0  0.0  \n",
            "6  0.0   0.0   0.000000        0.0     0.0   0.0  0.0  \n",
            "7  0.0   0.0   0.000000        0.0     0.0   0.0  0.0  \n",
            "8  0.0   0.0   0.000000        0.0     0.0   0.0  0.0  \n",
            "9  0.0   0.0   0.000000        0.0     0.0   0.0  0.0  \n",
            "\n",
            "[10 rows x 226 columns]\n"
          ]
        }
      ],
      "source": [
        "print(df.head(10))"
      ]
    },
    {
      "cell_type": "code",
      "execution_count": null,
      "metadata": {
        "id": "phrhNkpWdZXO"
      },
      "outputs": [],
      "source": [
        "# Combine all encoded features with the main dataset\n",
        "df_final = pd.concat([df.drop(columns=['goods_description', 'observations']), good_desc_tfidf_df, observations_tfidf_df], axis=1)\n"
      ]
    },
    {
      "cell_type": "code",
      "execution_count": null,
      "metadata": {
        "colab": {
          "base_uri": "https://localhost:8080/"
        },
        "id": "PuAbqAAqelnX",
        "outputId": "4eb297c6-2009-4e68-c32a-dedfc71cc77f"
      },
      "outputs": [
        {
          "output_type": "stream",
          "name": "stdout",
          "text": [
            "   PRENOTAZIONE COD_AZIENDA                     Data  FLAG_FATTURATO  \\\n",
            "0        818020         BeT  2023-01-02 00:00:00.000               1   \n",
            "1        818021         BeT  2023-01-02 00:00:00.000               1   \n",
            "2        818022         BeT  2023-01-02 00:00:00.000               1   \n",
            "3        818023         BeT  2023-01-02 00:00:00.000               1   \n",
            "4        818024         BeT  2023-01-02 00:00:00.000               1   \n",
            "\n",
            "   id_quotazioni  id_quotazioni_servizio  id_quotazioni_servizio_acquisti  \\\n",
            "0       15267116                21318146                              NaN   \n",
            "1       15276481                21451129                              NaN   \n",
            "2       15276450                21450651                              NaN   \n",
            "3       15267123                21318250                              NaN   \n",
            "4       15267129                21318330                              NaN   \n",
            "\n",
            "  desc_tipo_servizio Result_Account Result_Supplier  ... unarea under usare  \\\n",
            "0        B&T Express      106309247             DHL  ...    0.0   0.0   0.0   \n",
            "1        B&T Express      218174280           fedex  ...    0.0   0.0   0.0   \n",
            "2         B&T Italia      106309247             DHL  ...    0.0   0.0   0.0   \n",
            "3        B&T Express      106309247             DHL  ...    0.0   0.0   0.0   \n",
            "4        B&T Express      106309247             DHL  ...    0.0   0.0   0.0   \n",
            "\n",
            "   use using utilizzare verificare waybill  when  wine  \n",
            "0  0.0   0.0   0.000000        0.0     0.0   0.0   0.0  \n",
            "1  0.0   0.0   0.000000        0.0     0.0   0.0   0.0  \n",
            "2  0.0   0.0   0.000000        0.0     0.0   0.0   0.0  \n",
            "3  0.0   0.0   0.844468        0.0     0.0   0.0   0.0  \n",
            "4  0.0   0.0   0.000000        0.0     0.0   0.0   0.0  \n",
            "\n",
            "[5 rows x 424 columns]\n",
            "Index(['PRENOTAZIONE', 'COD_AZIENDA', 'Data', 'FLAG_FATTURATO',\n",
            "       'id_quotazioni', 'id_quotazioni_servizio',\n",
            "       'id_quotazioni_servizio_acquisti', 'desc_tipo_servizio',\n",
            "       'Result_Account', 'Result_Supplier',\n",
            "       ...\n",
            "       'unarea', 'under', 'usare', 'use', 'using', 'utilizzare', 'verificare',\n",
            "       'waybill', 'when', 'wine'],\n",
            "      dtype='object', length=424)\n"
          ]
        }
      ],
      "source": [
        "print(df_final.head())\n",
        "print(df_final.columns)"
      ]
    }
  ],
  "metadata": {
    "colab": {
      "provenance": [],
      "authorship_tag": "ABX9TyONkVZTTFKnEqda7Cpiby2o",
      "include_colab_link": true
    },
    "kernelspec": {
      "display_name": "Python 3",
      "name": "python3"
    },
    "language_info": {
      "name": "python"
    }
  },
  "nbformat": 4,
  "nbformat_minor": 0
}